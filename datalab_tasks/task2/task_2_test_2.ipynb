{
 "cells": [
  {
   "cell_type": "code",
   "execution_count": 1,
   "metadata": {},
   "outputs": [],
   "source": [
    "import cv2\n",
    "import numpy as np\n",
    "\n",
    "def find_edge(blurred_image, axis, reverse=False):\n",
    "    \"\"\"\n",
    "    Find the edge of the Petri dish by scanning until a change in pixel intensity is detected.\n",
    "    :param blurred_image: numpy array of the blurred image\n",
    "    :param axis: 0 for horizontal, 1 for vertical\n",
    "    :param reverse: False to scan from top/left, True to scan from bottom/right\n",
    "    :return: index of the edge\n",
    "    \"\"\"\n",
    "    sum_along_axis = np.sum(blurred_image, axis=axis)\n",
    "    if reverse:\n",
    "        sum_along_axis = sum_along_axis[::-1]\n",
    "    \n",
    "    # Threshold to detect edge, might need tuning based on actual image contrast and lighting\n",
    "    threshold = sum_along_axis.max() * 0.05  # Adjusted lower due to blurring\n",
    "    edge_idx = np.where(sum_along_axis < threshold)[0]\n",
    "    if len(edge_idx) > 0:\n",
    "        return edge_idx[0] if not reverse else blurred_image.shape[axis] - edge_idx[0]\n",
    "    return 0\n",
    "\n",
    "def crop_petri_dish(image_path):\n",
    "    # Load image\n",
    "    image = cv2.imread(image_path, cv2.IMREAD_GRAYSCALE)\n",
    "\n",
    "    # Apply Gaussian Blur\n",
    "    blurred_image = cv2.GaussianBlur(image, (21, 21), 0)  # Kernel size and sigma can be adjusted\n",
    "\n",
    "    # Find edges\n",
    "    top_edge = find_edge(blurred_image, axis=0, reverse=False)\n",
    "    bottom_edge = find_edge(blurred_image, axis=0, reverse=True)\n",
    "    left_edge = find_edge(blurred_image, axis=1, reverse=False)\n",
    "    right_edge = find_edge(blurred_image, axis=1, reverse=True)\n",
    "    \n",
    "    # Crop image\n",
    "    cropped_image = image[top_edge:bottom_edge, left_edge:right_edge]\n",
    "    \n",
    "    # Save or display the cropped image\n",
    "    cv2.imwrite('cropped_image.png', cropped_image)\n",
    "    cv2.imshow('Cropped Image', cropped_image)\n",
    "    cv2.waitKey(0)\n",
    "    cv2.destroyAllWindows()\n",
    "\n",
    "# Assuming a path to your image, you would call this function\n",
    "# crop_petri_dish('path_to_your_image.png')\n"
   ]
  }
 ],
 "metadata": {
  "kernelspec": {
   "display_name": "Block_B_Year_2",
   "language": "python",
   "name": "python3"
  },
  "language_info": {
   "codemirror_mode": {
    "name": "ipython",
    "version": 3
   },
   "file_extension": ".py",
   "mimetype": "text/x-python",
   "name": "python",
   "nbconvert_exporter": "python",
   "pygments_lexer": "ipython3",
   "version": "3.9.20"
  }
 },
 "nbformat": 4,
 "nbformat_minor": 2
}
